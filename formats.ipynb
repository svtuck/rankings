{
  "nbformat": 4,
  "nbformat_minor": 0,
  "metadata": {
    "colab": {
      "name": "formats.ipynb",
      "version": "0.3.2",
      "provenance": [],
      "collapsed_sections": [],
      "include_colab_link": true
    },
    "kernelspec": {
      "name": "python3",
      "display_name": "Python 3"
    }
  },
  "cells": [
    {
      "cell_type": "markdown",
      "metadata": {
        "id": "view-in-github",
        "colab_type": "text"
      },
      "source": [
        "<a href=\"https://colab.research.google.com/github/svtuck/rankings/blob/master/formats.ipynb\" target=\"_parent\"><img src=\"https://colab.research.google.com/assets/colab-badge.svg\" alt=\"Open In Colab\"/></a>"
      ]
    },
    {
      "metadata": {
        "id": "fYjxE3_koIEO",
        "colab_type": "code",
        "colab": {
          "base_uri": "https://localhost:8080/",
          "height": 187
        },
        "outputId": "384347a4-a938-4cde-cd18-5c6a59da90a0"
      },
      "cell_type": "code",
      "source": [
        "from random import gauss\n",
        "\n",
        "# Determined Emperically for 2018 mens college\n",
        "RATING_MU = 863\n",
        "RATING_SIGMA = 481\n",
        "PERFORMANCE_VAR_MU = 208\n",
        "PERFORMANCE_VAR_SIGMA = 52\n",
        "\n",
        "#Assume each team has some true rating and true variability. Generate performance as a sample from this rating and variability\n",
        "#Generate teams as a normal normal sample as determined emprically by 2018 results\n",
        "class Team:\n",
        "  @staticmethod\n",
        "  def generate():\n",
        "    return Team(gauss(RATING_MU, RATING_SIGMA), gauss(PERFORMANCE_VAR_MU, PERFORMANCE_VAR_SIGMA))\n",
        "  \n",
        "  def __init__(self, rating, var):\n",
        "    self.rating = rating\n",
        "    self.var = var\n",
        "    \n",
        "  # We will decide who wins by comparing performance score\n",
        "  def perform(self):\n",
        "    return gauss(self.rating, self.var)\n",
        "  \n",
        "  def __str__(self):\n",
        "    return \"RATING[%s] VAR[%s]\" % (self.rating, self.var)\n",
        "  \n",
        "  def __lt__(self, other):\n",
        "    return str(self) < str(other)\n",
        "  \n",
        "\n",
        "for i in range(10):\n",
        "  print(Team.generate())\n",
        "  \n",
        "  "
      ],
      "execution_count": 50,
      "outputs": [
        {
          "output_type": "stream",
          "text": [
            "RATING[984.0259357225143] VAR[207.2065250098289]\n",
            "RATING[174.61247850162056] VAR[269.0085075078526]\n",
            "RATING[651.1314808351909] VAR[232.31437615828193]\n",
            "RATING[1055.8474872034735] VAR[243.69584338672672]\n",
            "RATING[1.8640676889373253] VAR[212.0614386951424]\n",
            "RATING[176.2293602285464] VAR[144.7655524328777]\n",
            "RATING[804.1237793567508] VAR[200.59718482227308]\n",
            "RATING[2102.1657838472884] VAR[168.11794280411954]\n",
            "RATING[10.818656142016948] VAR[174.6665450040129]\n",
            "RATING[1265.6608503839627] VAR[216.89151586111012]\n"
          ],
          "name": "stdout"
        }
      ]
    },
    {
      "metadata": {
        "id": "z0Tma1GIqG-G",
        "colab_type": "code",
        "colab": {
          "base_uri": "https://localhost:8080/",
          "height": 187
        },
        "outputId": "c97f1a92-6dd3-4476-dff0-5909268949df"
      },
      "cell_type": "code",
      "source": [
        "def naive_tournament(teams):\n",
        "  return [x[1] for x in sorted([(team.perform(), team) for team in teams], reverse=True)]\n",
        "\n",
        "\n",
        "section = [Team.generate() for i in range(10)]\n",
        "results = naive_tournament(section)\n",
        "for x in results:\n",
        "  print(x)"
      ],
      "execution_count": 51,
      "outputs": [
        {
          "output_type": "stream",
          "text": [
            "RATING[2148.3318630318017] VAR[254.59668848304875]\n",
            "RATING[864.9870536994351] VAR[274.37628764617784]\n",
            "RATING[1127.223225976204] VAR[157.31747647482715]\n",
            "RATING[1125.8718052133224] VAR[251.54647206036248]\n",
            "RATING[1027.3587418665763] VAR[311.2942159489438]\n",
            "RATING[970.9987129655026] VAR[115.60840075887366]\n",
            "RATING[989.6847545804811] VAR[210.4439070795591]\n",
            "RATING[835.9029248683485] VAR[250.07076713710774]\n",
            "RATING[-261.73871945149995] VAR[223.55231328426345]\n",
            "RATING[-191.60056179191724] VAR[219.3054645890225]\n"
          ],
          "name": "stdout"
        }
      ]
    },
    {
      "metadata": {
        "id": "71vWxSbptt7e",
        "colab_type": "code",
        "colab": {
          "base_uri": "https://localhost:8080/",
          "height": 204
        },
        "outputId": "439cd73a-d3cd-4502-f045-e9ab63967ac3"
      },
      "cell_type": "code",
      "source": [
        "from itertools import combinations\n",
        "from collections import defaultdict\n",
        "\n",
        "#Ranking procedure with tiebreaks\n",
        "def rank_performance(teams, *score_funs):\n",
        "  if len(teams) == 1:\n",
        "    return [teams[0][1]]\n",
        "  score_fun = score_funs[0]\n",
        "  teams_in_buffer = [x[1] for x in teams]\n",
        "  scores = sorted([(sum([score_fun(t, rating) for t, rating in wins if t in teams_in_buffer]), wins, team) for wins, team in teams], key=lambda x: x[0], reverse=True)\n",
        "  ranking = []\n",
        "  buffer = []\n",
        "  for (score, wins, team) in scores:\n",
        "    if not buffer or buffer[0][0] == score:\n",
        "      buffer.append((wins, team))\n",
        "    else:\n",
        "      ranking.extend(rank_performance(buffer, score_funs[1:]))\n",
        "      buffer = [(wins, team)]\n",
        "  ranking.extend( rank_performance(buffer))\n",
        "                  \n",
        "  return ranking\n",
        "\n",
        "#Plays a round robin\n",
        "def pool_play(teams):\n",
        "  matchups = combinations(teams, 2)\n",
        "  records = {team: [] for team in teams}\n",
        "  \n",
        "  for a, b in matchups:\n",
        "    a_performance = a.perform()\n",
        "    b_performance = b.perform()\n",
        "    if a_performance > b_performance:\n",
        "      records[a].append((b, a_performance - b_performance ))\n",
        "    else:\n",
        "      records[b].append((a, b_performance - a_performance))\n",
        "   \n",
        "  num_wins =  [(wins, team) for team, wins in records.items()]\n",
        "  #Ranking procedure, is 1. number of wins among all teams, then number of wins among tied teams, then performance rating among tied teams (proxy for point diff)\n",
        "  return rank_performance(num_wins, lambda t, rating: 1, lambda t, rating: 1, lambda t, rating: rating)         \n",
        "  \n",
        "\n",
        "results = pool_play(section)\n",
        "print(len(section))\n",
        "for x in results:\n",
        "  print(\"Team\", x)"
      ],
      "execution_count": 52,
      "outputs": [
        {
          "output_type": "stream",
          "text": [
            "10\n",
            "Team RATING[2148.3318630318017] VAR[254.59668848304875]\n",
            "Team RATING[1125.8718052133224] VAR[251.54647206036248]\n",
            "Team RATING[835.9029248683485] VAR[250.07076713710774]\n",
            "Team RATING[989.6847545804811] VAR[210.4439070795591]\n",
            "Team RATING[970.9987129655026] VAR[115.60840075887366]\n",
            "Team RATING[1127.223225976204] VAR[157.31747647482715]\n",
            "Team RATING[864.9870536994351] VAR[274.37628764617784]\n",
            "Team RATING[1027.3587418665763] VAR[311.2942159489438]\n",
            "Team RATING[-261.73871945149995] VAR[223.55231328426345]\n",
            "Team RATING[-191.60056179191724] VAR[219.3054645890225]\n"
          ],
          "name": "stdout"
        }
      ]
    },
    {
      "metadata": {
        "id": "jqPy0PhQ_-S6",
        "colab_type": "code",
        "colab": {
          "base_uri": "https://localhost:8080/",
          "height": 34
        },
        "outputId": "efd22d7a-612c-4929-989b-6dcd812c74c9"
      },
      "cell_type": "code",
      "source": [
        "import operator as op\n",
        "from functools import reduce\n",
        "\n",
        "def ncr(n, r):\n",
        "    r = min(r, n-r)\n",
        "    numer = reduce(op.mul, range(n, n-r, -1), 1)\n",
        "    denom = reduce(op.mul, range(1, r+1), 1)\n",
        "    return numer / denom\n",
        "\n",
        "#Given a set of teams, run a procedure n times and measure controversy\n",
        "def evaluate(teams, procedure, loss_fn, n=100):\n",
        "  tally = 0\n",
        "  for x in range(n):\n",
        "    result = procedure(teams)\n",
        "    score = loss_fn(result)\n",
        "    tally += score\n",
        "  return tally / n\n",
        "\n",
        "\n",
        "#If the top n teams as determined by the procedure match the top n teams in reality\n",
        "#Add 1, else add 0\n",
        "def top_n_no_order(n=1):\n",
        "  def select_top(teams):\n",
        "    actual = sorted(teams, key=lambda x: x.rating, reverse = True)\n",
        "    if set(actual[:n]) == set(teams[:n]):\n",
        "      return 1 \n",
        "    else:\n",
        "      return 0\n",
        "  return select_top\n",
        "\n",
        "#If the top n teams as determined by the procedure match the top n teams in reality\n",
        "# In order, add 1, else add 0\n",
        "def top_n_in_order(n=1):\n",
        "  def select_top(teams):\n",
        "    actual = sorted(teams, key=lambda x: x.rating, reverse = True)\n",
        "    if actual[:n] == teams[:n]:\n",
        "      return 1\n",
        "    else:\n",
        "      return 0\n",
        "  return select_top\n",
        "\n",
        "#Find expected controversy for k teams\n",
        "def evaluate_k(*procedures, loss_fn, n=100, k=10):\n",
        "  tally = [0]*len(procedures)\n",
        "  for i in range(n):\n",
        "    teams = [Team.generate() for i in range(k)]\n",
        "    for j, procedure in enumerate(procedures):\n",
        "      tally[j] += evaluate(teams, procedure, loss_fn, n=1)\n",
        "  return [x/n for x in tally]\n",
        "\n",
        "\n",
        "  \n",
        "top_n_no_order(n=3)(sorted(section, key=lambda x: x.rating, reverse = True))"
      ],
      "execution_count": 68,
      "outputs": [
        {
          "output_type": "execute_result",
          "data": {
            "text/plain": [
              "1"
            ]
          },
          "metadata": {
            "tags": []
          },
          "execution_count": 68
        }
      ]
    },
    {
      "metadata": {
        "id": "LlCjvZnaATBF",
        "colab_type": "code",
        "colab": {
          "base_uri": "https://localhost:8080/",
          "height": 34
        },
        "outputId": "809a2262-09c6-49fb-b222-f7b55033b34d"
      },
      "cell_type": "code",
      "source": [
        "\n",
        "evaluate_k(pool_play, loss_fn=top_n_no_order(3), n=1000, k=12)"
      ],
      "execution_count": 62,
      "outputs": [
        {
          "output_type": "execute_result",
          "data": {
            "text/plain": [
              "[0.5236090909090926]"
            ]
          },
          "metadata": {
            "tags": []
          },
          "execution_count": 62
        }
      ]
    },
    {
      "metadata": {
        "id": "PlngeN_4GdUe",
        "colab_type": "code",
        "colab": {
          "base_uri": "https://localhost:8080/",
          "height": 204
        },
        "outputId": "36086e36-683e-4c29-bcd1-6922e38fb699"
      },
      "cell_type": "code",
      "source": [
        "import random\n",
        "from itertools import zip_longest\n",
        "def wins_against(a,b,seeds):\n",
        "  \n",
        "  return seeds[a-1].perform() > seeds[b-1].perform()\n",
        "\n",
        "#Play a bracket, returns a new order on the seeds included in the bracket\n",
        "def play_round(r, seeds):\n",
        "  if type(r) == int:\n",
        "    return [r]\n",
        "  if len(r) == 1:\n",
        "    return r\n",
        "  if len(r) == 2:\n",
        "      a = play_round(r[0], seeds)\n",
        "      b = play_round(r[1], seeds)\n",
        "      a_winner = a[0]\n",
        "      b_winner = b[0]\n",
        "      if wins_against(a_winner, b_winner, seeds):\n",
        "        return [a[0], b[0]] + [val for pair in zip_longest(a[1:], b[1:]) for val in pair if val]\n",
        "      else:\n",
        "        return [b[0], a[0]] + [val for pair in zip_longest(a[1:], b[1:]) for val in pair if val]\n",
        "    \n",
        "\n",
        "\n",
        "#Play a series of brackets\n",
        "#Plays a bracket, then reseeds and continues (to play for first, second, third etc...)\n",
        "def bracket(b):\n",
        "  def play_bracket(seeds):\n",
        "    results = []\n",
        "    for r in b:\n",
        "      ro = play_round(r, seeds)\n",
        "      results.append(seeds[ro[0] - 1 ])\n",
        "      seeds = results + [seeds[x-1] for x in ro[1:]] + seeds[len(results) + len(ro[1:]):]\n",
        "    return seeds\n",
        "  return play_bracket\n",
        "\n",
        "#Plays pool play with snake seeding\n",
        "def pools(n):\n",
        "  def rv(seeds):\n",
        "    p = [[] for i in range(n)]\n",
        "    for i in range(len(seeds)):\n",
        "      z = i % n\n",
        "      r = int(i/n) % 2\n",
        "      if r == 0:\n",
        "        p[z].append(seeds[i])\n",
        "      else:\n",
        "        p[n - z-1].append(seeds[i])\n",
        "    results = [pool_play(pool) for pool in p]\n",
        "    result = []\n",
        "    for i in range(len(seeds)):\n",
        "      z = i % n\n",
        "      r = int(i/n) % 2\n",
        "\n",
        "      if r == 0:\n",
        "        result.append(results[z][int(i/n)])\n",
        "      else:\n",
        "        result.append(results[n - z -1][int(i/n)])\n",
        "    return result  \n",
        "  return rv\n",
        "\n",
        "#Randomly split teams into n pools, and run f on the pools then select k/n from each pool\n",
        "#Resulting in k teams total. Finally reseed those remaining.\n",
        "def split(n, f, k):\n",
        "  def rv(teams):\n",
        "    random.shuffle(teams)\n",
        "    pools = [f(teams[int(i*len(teams)/n):int((i+1)*len(teams)/n)]) for i in range(n-1)]\n",
        "    x = sum([pool[:int(k/n)] for pool in pools], [])\n",
        "    return naive_tournament(x)\n",
        "  return rv\n",
        "  \n",
        "def progress(n):\n",
        "  def rv(teams):\n",
        "    return teams[:n]\n",
        "\n",
        "#Try to make a twelve team region from 3 sections\n",
        "sectionals = lambda x: split(3, naive_tournament, 12)(x)\n",
        "\n",
        "\n",
        "eight_1 = [[[1,8],[4,5]],[[2,7],[3,6]]]\n",
        "six_2 = [[1,2], \n",
        "         [2,[[3,6],[4,5]]]]\n",
        "eight_2_1 = [[[1,4],[2,3]],\n",
        "[2],\n",
        "[[3,[6,7]],[4,[5,8]]]]\n",
        "\n",
        "one_advance = lambda x: bracket(eight_1)(pools(2)(x))\n",
        "two_advance = lambda x: bracket(six_2)(pools(2)(x))      \n",
        "three_advance = lambda x: bracket(eight_2_1)(pools(2)(x))\n",
        "\n",
        "print(\"Higher is less controversial\")\n",
        "print(\"Evaluating 36 teams 3 bids\", evaluate_k(lambda x: three_advance(sectionals(x)), loss_fn=top_n_no_order(3),n=4000,k=36))\n",
        "print(\"Evaluating 36 teams 2 bids\", evaluate_k(lambda x: two_advance(sectionals(x)), loss_fn=top_n_no_order(2),n=4000,k=36))\n",
        "print(\"Evaluating 36 teams 1 bids\", evaluate_k(lambda x: one_advance(sectionals(x)), loss_fn=top_n_no_order(1),n=4000,k=36))\n",
        "four_game_bracket = [[[1,4],[2,3]],\n",
        "[2, [3,4]],\n",
        "[3,[4,[[5,8],[6,7]]]]]\n",
        "three_advance_four_games = lambda x: bracket(four_game_bracket)(pools(2)(x))\n",
        "print(\"Evaluating 36 teams 3 bids using four game bracket\",  evaluate_k(lambda x: three_advance_four_games(sectionals(x)), loss_fn=top_n_no_order(3),n=4000,k=36))\n",
        "a,b = evaluate_k(lambda x: three_advance(sectionals(x)), lambda x: three_advance_four_games(sectionals(x)), loss_fn=top_n_no_order(3),n=4000,k=36)\n",
        "print(\"Improvement from adding extra games\", round((b -a) * 100), \"% absolute\", round(100*(b/a -1)), \" % relative\")\n",
        "\n",
        "\n",
        "eight_2_1_played_out = [[[1,4],[2,3]],\n",
        "[2,[[3,[6,7]],[4,[5,8]]]]]\n",
        "\n",
        "      \n",
        "two_advance_eight_2_1 = lambda x: bracket(eight_2_1_played_out)(pools(2)(x))                        \n",
        "[nw, nw_2] = evaluate_k(lambda x: one_advance(naive_tournament(x)), lambda x: two_advance_eight_2_1(naive_tournament(x)), loss_fn=top_n_no_order(2),n=4000,k=8)\n",
        "\n",
        "print(\"Evaluating 8 teams 2 bids using one advance bracket no sectionals\", nw)\n",
        "print(\"Evaluating 8 teams 2 bids using two advance bracket no sectionals\", nw_2)\n",
        "\n",
        "print(\"Improvement from adding extra games\", round((nw_2 - nw) * 100), \"% absolute\", round(100*(nw_2/nw -1)), \" % relative\")\n",
        "[nw, nw_2] = evaluate_k(lambda x: one_advance(naive_tournament(x)), lambda x: two_advance_eight_2_1(naive_tournament(x)), loss_fn=top_n_in_order(1),n=4000,k=8)\n",
        "\n",
        "\n",
        "print(\"Evaluating 8 teams 1 bids using one advance bracket no sectionals\", nw)\n",
        "print(\"Evaluating 8 teams 1 bids using two advance bracket no sectionals\", nw_2)\n"
      ],
      "execution_count": 72,
      "outputs": [
        {
          "output_type": "stream",
          "text": [
            "Higher is less controversial\n",
            "Evaluating 36 teams 3 bids [0.444]\n",
            "Evaluating 36 teams 2 bids [0.5445]\n",
            "Evaluating 36 teams 1 bids [0.80875]\n",
            "Evaluating 36 teams 3 bids using four game bracket [0.4965]\n",
            "Improvement from adding extra games 4 % absolute 9  % relative\n",
            "Evaluating 8 teams 2 bids using one advance bracket no sectionals 0.7295\n",
            "Evaluating 8 teams 2 bids using two advance bracket no sectionals 0.63225\n",
            "Improvement from adding extra games -10 % absolute -13  % relative\n",
            "Evaluating 8 teams 1 bids using one advance bracket no sectionals 0.8775\n",
            "Evaluating 8 teams 1 bids using two advance bracket no sectionals 0.72125\n"
          ],
          "name": "stdout"
        }
      ]
    },
    {
      "metadata": {
        "id": "K2pf-fd8bO2M",
        "colab_type": "code",
        "colab": {
          "base_uri": "https://localhost:8080/",
          "height": 34
        },
        "outputId": "a3c106c6-1794-4be1-8842-bcf44eac5260"
      },
      "cell_type": "code",
      "source": [
        "def repeated(f, n=100):\n",
        "  def rv(teams):\n",
        "    d = defaultdict(int)\n",
        "    for i in range(n):\n",
        "      results = f(teams)\n",
        "      for j in range(len(results)):\n",
        "        d[results[j]]+=j\n",
        "    return [x[1] for x in sorted([(v,k) for k,v in d.items()])]\n",
        "  return rv\n",
        "\n",
        "\n",
        "print(\"Play pool play 1000 times, ten teams select top 3\", evaluate_k(repeated(pool_play, n=1000), loss_fn=top_n_no_order(1),n=100,k=10))\n"
      ],
      "execution_count": 58,
      "outputs": [
        {
          "output_type": "stream",
          "text": [
            "Play pool play 1000 times, ten teams select top 3 [0.93]\n"
          ],
          "name": "stdout"
        }
      ]
    }
  ]
}