{
  "nbformat": 4,
  "nbformat_minor": 0,
  "metadata": {
    "colab": {
      "name": "formats.ipynb",
      "version": "0.3.2",
      "provenance": [],
      "collapsed_sections": [],
      "include_colab_link": true
    },
    "kernelspec": {
      "name": "python3",
      "display_name": "Python 3"
    }
  },
  "cells": [
    {
      "cell_type": "markdown",
      "metadata": {
        "id": "view-in-github",
        "colab_type": "text"
      },
      "source": [
        "<a href=\"https://colab.research.google.com/github/svtuck/rankings/blob/master/formats.ipynb\" target=\"_parent\"><img src=\"https://colab.research.google.com/assets/colab-badge.svg\" alt=\"Open In Colab\"/></a>"
      ]
    },
    {
      "metadata": {
        "id": "fYjxE3_koIEO",
        "colab_type": "code",
        "colab": {
          "base_uri": "https://localhost:8080/",
          "height": 187
        },
        "outputId": "0c423e4f-41b7-4de0-b9fd-291a433f1caa"
      },
      "cell_type": "code",
      "source": [
        "from random import gauss\n",
        "\n",
        "# Determined Emperically for 2018 mens college\n",
        "RATING_MU = 863\n",
        "RATING_SIGMA = 481\n",
        "PERFORMANCE_VAR_MU = 208\n",
        "PERFORMANCE_VAR_SIGMA = 52\n",
        "\n",
        "#Assume each team has some true rating and true variability. Generate performance as a sample from this rating and variability\n",
        "#Generate teams as a normal normal sample as determined emprically by 2018 results\n",
        "class Team:\n",
        "  @staticmethod\n",
        "  def generate():\n",
        "    return Team(gauss(RATING_MU, RATING_SIGMA), gauss(PERFORMANCE_VAR_MU, PERFORMANCE_VAR_SIGMA))\n",
        "  \n",
        "  def __init__(self, rating, var):\n",
        "    self.rating = rating\n",
        "    self.var = var\n",
        "    \n",
        "  # We will decide who wins by comparing performance score\n",
        "  def perform(self):\n",
        "    return gauss(self.rating, self.var)\n",
        "  \n",
        "  def __str__(self):\n",
        "    return \"RATING[%s] VAR[%s]\" % (self.rating, self.var)\n",
        "  \n",
        "  def __lt__(self, other):\n",
        "    return str(self) < str(other)\n",
        "  \n",
        "\n",
        "for i in range(10):\n",
        "  print(Team.generate())\n",
        "  \n",
        "  "
      ],
      "execution_count": 73,
      "outputs": [
        {
          "output_type": "stream",
          "text": [
            "RATING[1035.3491115037352] VAR[176.813604383049]\n",
            "RATING[1188.2283417264052] VAR[256.34699534759386]\n",
            "RATING[1658.4050084033197] VAR[211.58404739222632]\n",
            "RATING[594.3982652896084] VAR[325.6395465744664]\n",
            "RATING[1014.6888502090683] VAR[231.12657352782233]\n",
            "RATING[737.2002919300855] VAR[212.27344645671772]\n",
            "RATING[1137.0781291279332] VAR[220.5781987990763]\n",
            "RATING[200.88625191647873] VAR[146.42132960553303]\n",
            "RATING[1423.4786984422742] VAR[189.6785089557069]\n",
            "RATING[1205.5628173529944] VAR[204.73059596263764]\n"
          ],
          "name": "stdout"
        }
      ]
    },
    {
      "metadata": {
        "id": "z0Tma1GIqG-G",
        "colab_type": "code",
        "colab": {
          "base_uri": "https://localhost:8080/",
          "height": 187
        },
        "outputId": "3f0ed231-28d1-45ac-aad3-6de9756bb969"
      },
      "cell_type": "code",
      "source": [
        "def naive_tournament(teams):\n",
        "  return [x[1] for x in sorted([(team.perform(), team) for team in teams], reverse=True)]\n",
        "\n",
        "\n",
        "section = [Team.generate() for i in range(10)]\n",
        "results = naive_tournament(section)\n",
        "for x in results:\n",
        "  print(x)"
      ],
      "execution_count": 74,
      "outputs": [
        {
          "output_type": "stream",
          "text": [
            "RATING[1650.2944654955816] VAR[297.59465129706416]\n",
            "RATING[1370.234053332821] VAR[221.62818735172823]\n",
            "RATING[901.7255709038797] VAR[243.69152133535408]\n",
            "RATING[1332.2514164296224] VAR[219.63042617755835]\n",
            "RATING[1144.4547387387722] VAR[171.0892163120566]\n",
            "RATING[1026.978702513904] VAR[141.83681698065828]\n",
            "RATING[949.6483045165536] VAR[137.20071825865347]\n",
            "RATING[610.8157929111718] VAR[97.53910941024682]\n",
            "RATING[334.39985694246604] VAR[267.2064959890181]\n",
            "RATING[225.70289318556308] VAR[167.1534146002695]\n"
          ],
          "name": "stdout"
        }
      ]
    },
    {
      "metadata": {
        "id": "71vWxSbptt7e",
        "colab_type": "code",
        "colab": {
          "base_uri": "https://localhost:8080/",
          "height": 204
        },
        "outputId": "7ac01fe7-d63a-449e-bf10-ea53bc9d4320"
      },
      "cell_type": "code",
      "source": [
        "from itertools import combinations\n",
        "from collections import defaultdict\n",
        "\n",
        "#Ranking procedure with tiebreaks\n",
        "def rank_performance(teams, *score_funs):\n",
        "  if len(teams) == 1:\n",
        "    return [teams[0][1]]\n",
        "  score_fun = score_funs[0]\n",
        "  teams_in_buffer = [x[1] for x in teams]\n",
        "  scores = sorted([(sum([score_fun(t, rating) for t, rating in wins if t in teams_in_buffer]), wins, team) for wins, team in teams], key=lambda x: x[0], reverse=True)\n",
        "  ranking = []\n",
        "  buffer = []\n",
        "  for (score, wins, team) in scores:\n",
        "    if not buffer or buffer[0][0] == score:\n",
        "      buffer.append((wins, team))\n",
        "    else:\n",
        "      ranking.extend(rank_performance(buffer, score_funs[1:]))\n",
        "      buffer = [(wins, team)]\n",
        "  ranking.extend( rank_performance(buffer))\n",
        "                  \n",
        "  return ranking\n",
        "\n",
        "#Plays a round robin\n",
        "def pool_play(teams):\n",
        "  matchups = combinations(teams, 2)\n",
        "  records = {team: [] for team in teams}\n",
        "  \n",
        "  for a, b in matchups:\n",
        "    a_performance = a.perform()\n",
        "    b_performance = b.perform()\n",
        "    if a_performance > b_performance:\n",
        "      records[a].append((b, a_performance - b_performance ))\n",
        "    else:\n",
        "      records[b].append((a, b_performance - a_performance))\n",
        "   \n",
        "  num_wins =  [(wins, team) for team, wins in records.items()]\n",
        "  #Ranking procedure, is 1. number of wins among all teams, then number of wins among tied teams, then performance rating among tied teams (proxy for point diff)\n",
        "  return rank_performance(num_wins, lambda t, rating: 1, lambda t, rating: 1, lambda t, rating: rating)         \n",
        "  \n",
        "\n",
        "results = pool_play(section)\n",
        "print(len(section))\n",
        "for x in results:\n",
        "  print(\"Team\", x)"
      ],
      "execution_count": 75,
      "outputs": [
        {
          "output_type": "stream",
          "text": [
            "10\n",
            "Team RATING[1650.2944654955816] VAR[297.59465129706416]\n",
            "Team RATING[1332.2514164296224] VAR[219.63042617755835]\n",
            "Team RATING[901.7255709038797] VAR[243.69152133535408]\n",
            "Team RATING[1370.234053332821] VAR[221.62818735172823]\n",
            "Team RATING[949.6483045165536] VAR[137.20071825865347]\n",
            "Team RATING[1144.4547387387722] VAR[171.0892163120566]\n",
            "Team RATING[1026.978702513904] VAR[141.83681698065828]\n",
            "Team RATING[610.8157929111718] VAR[97.53910941024682]\n",
            "Team RATING[225.70289318556308] VAR[167.1534146002695]\n",
            "Team RATING[334.39985694246604] VAR[267.2064959890181]\n"
          ],
          "name": "stdout"
        }
      ]
    },
    {
      "metadata": {
        "id": "jqPy0PhQ_-S6",
        "colab_type": "code",
        "colab": {
          "base_uri": "https://localhost:8080/",
          "height": 34
        },
        "outputId": "db7c10e1-dc72-4e4d-9b22-eab3ac75cbab"
      },
      "cell_type": "code",
      "source": [
        "import operator as op\n",
        "from functools import reduce\n",
        "\n",
        "def ncr(n, r):\n",
        "    r = min(r, n-r)\n",
        "    numer = reduce(op.mul, range(n, n-r, -1), 1)\n",
        "    denom = reduce(op.mul, range(1, r+1), 1)\n",
        "    return numer / denom\n",
        "\n",
        "#Given a set of teams, run a procedure n times and measure controversy\n",
        "def evaluate(teams, procedure, loss_fn, n=100):\n",
        "  tally = 0\n",
        "  for x in range(n):\n",
        "    result = procedure(teams)\n",
        "    score = loss_fn(result)\n",
        "    tally += score\n",
        "  return tally / n\n",
        "\n",
        "\n",
        "#If the top n teams as determined by the procedure match the top n teams in reality\n",
        "#Add 1, else add 0\n",
        "def top_n_no_order(n=1):\n",
        "  def select_top(teams):\n",
        "    actual = sorted(teams, key=lambda x: x.rating, reverse = True)\n",
        "    if set(actual[:n]) == set(teams[:n]):\n",
        "      return 1 \n",
        "    else:\n",
        "      return 0\n",
        "  return select_top\n",
        "\n",
        "#If the top n teams as determined by the procedure match the top n teams in reality\n",
        "# In order, add 1, else add 0\n",
        "def top_n_in_order(n=1):\n",
        "  def select_top(teams):\n",
        "    actual = sorted(teams, key=lambda x: x.rating, reverse = True)\n",
        "    if actual[:n] == teams[:n]:\n",
        "      return 1\n",
        "    else:\n",
        "      return 0\n",
        "  return select_top\n",
        "\n",
        "#Find expected controversy for k teams\n",
        "def evaluate_k(*procedures, loss_fn, n=100, k=10):\n",
        "  tally = [0]*len(procedures)\n",
        "  for i in range(n):\n",
        "    teams = [Team.generate() for i in range(k)]\n",
        "    for j, procedure in enumerate(procedures):\n",
        "      tally[j] += evaluate(teams, procedure, loss_fn, n=1)\n",
        "  return [x/n for x in tally]\n",
        "\n",
        "\n",
        "  \n",
        "top_n_no_order(n=3)(sorted(section, key=lambda x: x.rating, reverse = True))"
      ],
      "execution_count": 76,
      "outputs": [
        {
          "output_type": "execute_result",
          "data": {
            "text/plain": [
              "1"
            ]
          },
          "metadata": {
            "tags": []
          },
          "execution_count": 76
        }
      ]
    },
    {
      "metadata": {
        "id": "LlCjvZnaATBF",
        "colab_type": "code",
        "colab": {
          "base_uri": "https://localhost:8080/",
          "height": 34
        },
        "outputId": "81955468-871f-4476-cd11-874912031b6d"
      },
      "cell_type": "code",
      "source": [
        "\n",
        "evaluate_k(pool_play, loss_fn=top_n_no_order(3), n=1000, k=12)"
      ],
      "execution_count": 77,
      "outputs": [
        {
          "output_type": "execute_result",
          "data": {
            "text/plain": [
              "[0.507]"
            ]
          },
          "metadata": {
            "tags": []
          },
          "execution_count": 77
        }
      ]
    },
    {
      "metadata": {
        "id": "PlngeN_4GdUe",
        "colab_type": "code",
        "colab": {}
      },
      "cell_type": "code",
      "source": [
        "import random\n",
        "from itertools import zip_longest\n",
        "def wins_against(a,b,seeds):\n",
        "  \n",
        "  return seeds[a-1].perform() > seeds[b-1].perform()\n",
        "\n",
        "#Play a bracket, returns a new order on the seeds included in the bracket\n",
        "def play_round(r, seeds):\n",
        "  if type(r) == int:\n",
        "    return [r]\n",
        "  if len(r) == 1:\n",
        "    return r\n",
        "  if len(r) == 2:\n",
        "      a = play_round(r[0], seeds)\n",
        "      b = play_round(r[1], seeds)\n",
        "      a_winner = a[0]\n",
        "      b_winner = b[0]\n",
        "      if wins_against(a_winner, b_winner, seeds):\n",
        "        return [a[0], b[0]] + [val for pair in zip_longest(a[1:], b[1:]) for val in pair if val]\n",
        "      else:\n",
        "        return [b[0], a[0]] + [val for pair in zip_longest(a[1:], b[1:]) for val in pair if val]\n",
        "    \n",
        "\n",
        "\n",
        "#Play a series of brackets\n",
        "#Plays a bracket, then reseeds and continues (to play for first, second, third etc...)\n",
        "def bracket(b):\n",
        "  def play_bracket(seeds):\n",
        "    results = []\n",
        "    for r in b:\n",
        "      ro = play_round(r, seeds)\n",
        "      results.append(seeds[ro[0] - 1 ])\n",
        "      seeds = results + [seeds[x-1] for x in ro[1:]] + seeds[len(results) + len(ro[1:]):]\n",
        "    return seeds\n",
        "  return play_bracket\n",
        "\n",
        "#Plays pool play with snake seeding\n",
        "def pools(n):\n",
        "  def rv(seeds):\n",
        "    p = [[] for i in range(n)]\n",
        "    for i in range(len(seeds)):\n",
        "      z = i % n\n",
        "      r = int(i/n) % 2\n",
        "      if r == 0:\n",
        "        p[z].append(seeds[i])\n",
        "      else:\n",
        "        p[n - z-1].append(seeds[i])\n",
        "    results = [pool_play(pool) for pool in p]\n",
        "    result = []\n",
        "    for i in range(len(seeds)):\n",
        "      z = i % n\n",
        "      r = int(i/n) % 2\n",
        "\n",
        "      if r == 0:\n",
        "        result.append(results[z][int(i/n)])\n",
        "      else:\n",
        "        result.append(results[n - z -1][int(i/n)])\n",
        "    return result  \n",
        "  return rv\n",
        "\n",
        "#Randomly split teams into n pools, and run f on the pools then select k/n from each pool\n",
        "#Resulting in k teams total. Finally reseed those remaining.\n",
        "def split(n, f, k):\n",
        "  def rv(teams):\n",
        "    random.shuffle(teams)\n",
        "    pools = [f(teams[int(i*len(teams)/n):int((i+1)*len(teams)/n)]) for i in range(n-1)]\n",
        "    x = sum([pool[:int(k/n)] for pool in pools], [])\n",
        "    return naive_tournament(x)\n",
        "  return rv\n",
        "  \n",
        "def progress(n):\n",
        "  def rv(teams):\n",
        "    return teams[:n]\n",
        "\n",
        "#Try to make a twelve team region from 3 sections\n",
        "sectionals = lambda x: split(3, naive_tournament, 12)(x)\n",
        "\n",
        "\n",
        "eight_1 = [[[[1,8],[4,5]],[[2,7],[3,6]]]]\n",
        "six_2 = [[1,2], \n",
        "         [2,[[3,6],[4,5]]]]\n",
        "eight_2_1 = [[[1,4],[2,3]],\n",
        "[2],\n",
        "[[3,[6,7]],[4,[5,8]]]]\n",
        "\n",
        "one_advance = lambda x: bracket(eight_1)(pools(2)(x))\n",
        "two_advance = lambda x: bracket(six_2)(pools(2)(x))      \n",
        "three_advance = lambda x: bracket(eight_2_1)(pools(2)(x))\n",
        "\n"
      ],
      "execution_count": 0,
      "outputs": []
    },
    {
      "metadata": {
        "id": "o8u46TxK-YCD",
        "colab_type": "code",
        "colab": {
          "base_uri": "https://localhost:8080/",
          "height": 204
        },
        "outputId": "614c37b8-ca98-4bc2-c2e0-5e78cdaf3266"
      },
      "cell_type": "code",
      "source": [
        "print(\"Higher is less controversial\")\n",
        "print(\"Evaluating 36 teams 3 bids\", evaluate_k(lambda x: three_advance(sectionals(x)), loss_fn=top_n_no_order(3),n=4000,k=36))\n",
        "print(\"Evaluating 36 teams 2 bids\", evaluate_k(lambda x: two_advance(sectionals(x)), loss_fn=top_n_no_order(2),n=4000,k=36))\n",
        "print(\"Evaluating 36 teams 1 bids\", evaluate_k(lambda x: one_advance(sectionals(x)), loss_fn=top_n_no_order(1),n=4000,k=36))\n",
        "four_game_bracket = [[[1,4],[2,3]],\n",
        "[2, [3,4]],\n",
        "[3,[4,[[5,8],[6,7]]]]]\n",
        "three_advance_four_games = lambda x: bracket(four_game_bracket)(pools(2)(x))\n",
        "print(\"Evaluating 36 teams 3 bids using four game bracket\",  evaluate_k(lambda x: three_advance_four_games(sectionals(x)), loss_fn=top_n_no_order(3),n=4000,k=36))\n",
        "a,b = evaluate_k(lambda x: three_advance(sectionals(x)), lambda x: three_advance_four_games(sectionals(x)), loss_fn=top_n_no_order(3),n=4000,k=36)\n",
        "print(\"Improvement from adding extra games\", round((b -a) * 100), \"% absolute\", round(100*(b/a -1)), \" % relative\")\n",
        "\n",
        "\n",
        " \n",
        "eight_2_1_played_out = [\n",
        "   [\n",
        "      [\n",
        "         1,\n",
        "         4\n",
        "      ],\n",
        "      [\n",
        "         2,\n",
        "         3\n",
        "      ]\n",
        "   ],\n",
        "   [\n",
        "      2,\n",
        "      [\n",
        "         [\n",
        "            3,\n",
        "            [\n",
        "               5,\n",
        "               8\n",
        "            ]\n",
        "         ],\n",
        "         [\n",
        "            4,\n",
        "            [\n",
        "               6,\n",
        "               7\n",
        "            ]\n",
        "         ]\n",
        "      ]\n",
        "   ]\n",
        "]\n",
        "\n",
        "      \n",
        "two_advance_eight_2_1 = lambda x: bracket(eight_2_1_played_out)(pools(2)(x))                        \n",
        "[nw, nw_2] = evaluate_k(lambda x: one_advance(naive_tournament(x)), lambda x: two_advance_eight_2_1(naive_tournament(x)), loss_fn=top_n_no_order(2),n=4000,k=8)\n",
        "\n",
        "print(\"Evaluating 8 teams 2 bids using one advance bracket no sectionals\", nw)\n",
        "print(\"Evaluating 8 teams 2 bids using two advance bracket no sectionals\", nw_2)\n",
        "\n",
        "print(\"Improvement from adding extra games\", round((nw_2 - nw) * 100), \"% absolute\", round(100*(nw_2/nw -1)), \" % relative\")\n",
        "[nw, nw_2] = evaluate_k(lambda x: one_advance(naive_tournament(x)), lambda x: two_advance_eight_2_1(naive_tournament(x)), loss_fn=top_n_in_order(1),n=4000,k=8)\n",
        "\n",
        "\n",
        "print(\"Evaluating 8 teams 1 bids using one advance bracket no sectionals\", nw)\n",
        "print(\"Evaluating 8 teams 1 bids using two advance bracket no sectionals\", nw_2)"
      ],
      "execution_count": 89,
      "outputs": [
        {
          "output_type": "stream",
          "text": [
            "Higher is less controversial\n",
            "Evaluating 36 teams 3 bids [0.43825]\n",
            "Evaluating 36 teams 2 bids [0.55925]\n",
            "Evaluating 36 teams 1 bids [0.66]\n",
            "Evaluating 36 teams 3 bids using four game bracket [0.48975]\n",
            "Improvement from adding extra games 4 % absolute 9  % relative\n",
            "Evaluating 8 teams 2 bids using one advance bracket no sectionals 0.57375\n",
            "Evaluating 8 teams 2 bids using two advance bracket no sectionals 0.6535\n",
            "Improvement from adding extra games 8 % absolute 14  % relative\n",
            "Evaluating 8 teams 1 bids using one advance bracket no sectionals 0.71575\n",
            "Evaluating 8 teams 1 bids using two advance bracket no sectionals 0.72975\n"
          ],
          "name": "stdout"
        }
      ]
    },
    {
      "metadata": {
        "id": "bBeoSi-q-cLV",
        "colab_type": "code",
        "colab": {}
      },
      "cell_type": "code",
      "source": [
        ""
      ],
      "execution_count": 0,
      "outputs": []
    },
    {
      "metadata": {
        "id": "K2pf-fd8bO2M",
        "colab_type": "code",
        "colab": {
          "base_uri": "https://localhost:8080/",
          "height": 34
        },
        "outputId": "7bfecded-f602-473d-f271-c49ed33a0ed5"
      },
      "cell_type": "code",
      "source": [
        "def repeated(f, n=100):\n",
        "  def rv(teams):\n",
        "    d = defaultdict(int)\n",
        "    for i in range(n):\n",
        "      results = f(teams)\n",
        "      for j in range(len(results)):\n",
        "        d[results[j]]+=j\n",
        "    return [x[1] for x in sorted([(v,k) for k,v in d.items()])]\n",
        "  return rv\n",
        "\n",
        "\n",
        "print(\"Play pool play 1000 times, ten teams select top 3\", evaluate_k(repeated(pool_play, n=1000), loss_fn=top_n_no_order(1),n=100,k=10))\n"
      ],
      "execution_count": 79,
      "outputs": [
        {
          "output_type": "stream",
          "text": [
            "Play pool play 1000 times, ten teams select top 3 [0.93]\n"
          ],
          "name": "stdout"
        }
      ]
    }
  ]
}